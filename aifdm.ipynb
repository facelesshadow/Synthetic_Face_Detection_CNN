{
  "nbformat": 4,
  "nbformat_minor": 0,
  "metadata": {
    "colab": {
      "provenance": []
    },
    "kernelspec": {
      "name": "python3",
      "display_name": "Python 3"
    },
    "language_info": {
      "name": "python"
    }
  },
  "cells": [
    {
      "cell_type": "code",
      "execution_count": 3,
      "metadata": {
        "id": "ppBHaIPkoYNA"
      },
      "outputs": [],
      "source": [
        "!mkdir -p ~/.kaggle\n",
        "!cp kaggle.json ~/.kaggle/"
      ]
    },
    {
      "cell_type": "code",
      "source": [
        "import tensorflow as tf\n",
        "import numpy as np\n",
        "from sklearn.model_selection import train_test_split\n",
        "import cv2\n",
        "import os\n",
        "import pandas as pd"
      ],
      "metadata": {
        "id": "JS2BfkRgo3_0"
      },
      "execution_count": 4,
      "outputs": []
    },
    {
      "cell_type": "code",
      "source": [
        "import kagglehub\n",
        "\n",
        "# Download latest version\n",
        "path = kagglehub.dataset_download(\"shahzaibshazoo/detect-ai-generated-faces-high-quality-dataset\")\n",
        "\n",
        "print(\"Path to dataset files:\", path)"
      ],
      "metadata": {
        "colab": {
          "base_uri": "https://localhost:8080/"
        },
        "id": "Eb3roJs2pEh-",
        "outputId": "9769dea2-511d-4757-81cb-ac603428fddd"
      },
      "execution_count": 5,
      "outputs": [
        {
          "output_type": "stream",
          "name": "stdout",
          "text": [
            "Downloading from https://www.kaggle.com/api/v1/datasets/download/shahzaibshazoo/detect-ai-generated-faces-high-quality-dataset?dataset_version_number=1...\n"
          ]
        },
        {
          "output_type": "stream",
          "name": "stderr",
          "text": [
            "100%|██████████| 116M/116M [00:01<00:00, 90.1MB/s]"
          ]
        },
        {
          "output_type": "stream",
          "name": "stdout",
          "text": [
            "Extracting files...\n"
          ]
        },
        {
          "output_type": "stream",
          "name": "stderr",
          "text": [
            "\n"
          ]
        },
        {
          "output_type": "stream",
          "name": "stdout",
          "text": [
            "Path to dataset files: /root/.cache/kagglehub/datasets/shahzaibshazoo/detect-ai-generated-faces-high-quality-dataset/versions/1\n"
          ]
        }
      ]
    },
    {
      "cell_type": "code",
      "source": [
        "IMG_WIDTH = 224\n",
        "IMG_HEIGHT = 224\n",
        "TEST_SIZE = 0.2\n",
        "NUM_CATEGORIES = 2\n",
        "EPOCHS = 10\n",
        "path"
      ],
      "metadata": {
        "colab": {
          "base_uri": "https://localhost:8080/",
          "height": 35
        },
        "id": "Bl3HCK99pLQQ",
        "outputId": "dd2a886c-14fb-4925-a30e-103bfe5e1d5d"
      },
      "execution_count": 6,
      "outputs": [
        {
          "output_type": "execute_result",
          "data": {
            "text/plain": [
              "'/root/.cache/kagglehub/datasets/shahzaibshazoo/detect-ai-generated-faces-high-quality-dataset/versions/1'"
            ],
            "application/vnd.google.colaboratory.intrinsic+json": {
              "type": "string"
            }
          },
          "metadata": {},
          "execution_count": 6
        }
      ]
    },
    {
      "cell_type": "code",
      "source": [
        "# Loading all the Image labels through their folder names\n",
        "label_list = []\n",
        "path = os.path.join(path, 'AI-face-detection-Dataset')\n",
        "label_list = (os.listdir(path))\n",
        "label_list"
      ],
      "metadata": {
        "colab": {
          "base_uri": "https://localhost:8080/"
        },
        "id": "dKZPBX0Ept6T",
        "outputId": "6c8715f9-d9b1-47f8-d89e-e99b9db3887d"
      },
      "execution_count": 7,
      "outputs": [
        {
          "output_type": "execute_result",
          "data": {
            "text/plain": [
              "['real', 'AI']"
            ]
          },
          "metadata": {},
          "execution_count": 7
        }
      ]
    },
    {
      "cell_type": "code",
      "source": [
        "image_data = []\n",
        "labels = []\n",
        "for i in label_list:\n",
        "  image_list = os.listdir(os.path.join(path, str(i)))\n",
        "  for image_name in image_list:\n",
        "    image_path = os.path.join(path, str(i), image_name)\n",
        "    image_array = cv2.imread(image_path)\n",
        "    image_array = cv2.resize(image_array, (IMG_WIDTH, IMG_HEIGHT))\n",
        "    image_array = cv2.cvtColor(image_array, cv2.COLOR_BGR2GRAY)\n",
        "    image_array = cv2.equalizeHist(image_array)\n",
        "    image_data.append(image_array)\n",
        "    if i == 'real':\n",
        "      labels.append(0)\n",
        "    else:\n",
        "      labels.append(1)"
      ],
      "metadata": {
        "id": "xKCXpzc-qDiN"
      },
      "execution_count": 8,
      "outputs": []
    },
    {
      "cell_type": "code",
      "source": [
        "labels[0]"
      ],
      "metadata": {
        "colab": {
          "base_uri": "https://localhost:8080/"
        },
        "id": "jMn7q7hWuona",
        "outputId": "f44d5df4-a0df-4a16-c9de-aa745dcd0945"
      },
      "execution_count": 9,
      "outputs": [
        {
          "output_type": "execute_result",
          "data": {
            "text/plain": [
              "0"
            ]
          },
          "metadata": {},
          "execution_count": 9
        }
      ]
    },
    {
      "cell_type": "code",
      "source": [
        "labels = np.array(tf.keras.utils.to_categorical(labels))\n",
        "#labels = np.array(labels)\n",
        "image_data = np.array(image_data)\n",
        "labels[0]"
      ],
      "metadata": {
        "id": "aXZUtBdbvSgT",
        "colab": {
          "base_uri": "https://localhost:8080/"
        },
        "outputId": "196123e8-3a7e-4a40-9a65-d4f69b4bbac5"
      },
      "execution_count": 10,
      "outputs": [
        {
          "output_type": "execute_result",
          "data": {
            "text/plain": [
              "array([1., 0.])"
            ]
          },
          "metadata": {},
          "execution_count": 10
        }
      ]
    },
    {
      "cell_type": "code",
      "source": [
        "from sklearn.utils import shuffle\n",
        "\n",
        "image_data, labels = shuffle(image_data, labels, random_state=42)"
      ],
      "metadata": {
        "id": "lrpdHmgCweYs"
      },
      "execution_count": 11,
      "outputs": []
    },
    {
      "cell_type": "code",
      "source": [
        "X_train, X_test, y_train, y_test = train_test_split(\n",
        "    image_data, labels, test_size=TEST_SIZE\n",
        ")\n",
        "y_train.shape\n",
        "#X_train.shape\n",
        "y_train[0]"
      ],
      "metadata": {
        "colab": {
          "base_uri": "https://localhost:8080/"
        },
        "id": "hzRKsI7Wwztw",
        "outputId": "717e895e-1974-4278-d6a6-27d6eedf6aa1"
      },
      "execution_count": 12,
      "outputs": [
        {
          "output_type": "execute_result",
          "data": {
            "text/plain": [
              "array([1., 0.])"
            ]
          },
          "metadata": {},
          "execution_count": 12
        }
      ]
    },
    {
      "cell_type": "code",
      "source": [
        "#X_train = X_train/255\n",
        "#X_test = X_test/255"
      ],
      "metadata": {
        "id": "x8z5wWbfw4xM"
      },
      "execution_count": 13,
      "outputs": []
    },
    {
      "cell_type": "code",
      "source": [
        "rescal_and_resize  = tf.keras.Sequential([\n",
        "    tf.keras.layers.Rescaling(1.0/255),\n",
        "    tf.keras.layers.Resizing(IMG_HEIGHT, IMG_WIDTH)\n",
        "]) # Data augmentation is done toe to introduce the data to different orrientations and also increase the size of the dataset\n",
        "\n",
        "data_augmentation =tf.keras.Sequential([\n",
        "    tf.keras.layers.RandomFlip('Horizontal_andvertical'),\n",
        "    tf.keras.layers.RandomRotation(0.5)\n",
        "])"
      ],
      "metadata": {
        "id": "zdk-x4JF3GdF"
      },
      "execution_count": 14,
      "outputs": []
    },
    {
      "cell_type": "code",
      "source": [
        "#input_shape = (BATCH_SIZE, IMG_HEIGHT, IMG_WIDTH, CHANNELS)\n",
        "model = tf.keras.Sequential([\n",
        "    tf.keras.layers.InputLayer(input_shape=(IMG_WIDTH, IMG_HEIGHT, 1)),\n",
        "    data_augmentation,\n",
        "    rescal_and_resize,\n",
        "    tf.keras.layers.Conv2D(\n",
        "        32, (3,3), activation=\"relu\", input_shape = (IMG_WIDTH, IMG_HEIGHT, 3)\n",
        "    ),\n",
        "    tf.keras.layers.MaxPooling2D(pool_size=(2,2)),\n",
        "    tf.keras.layers.Flatten(),\n",
        "    tf.keras.layers.Dense(64, activation=\"relu\"),\n",
        "    tf.keras.layers.Dense(2, activation=\"softmax\")\n",
        "])"
      ],
      "metadata": {
        "id": "bRBzUicJxR36",
        "colab": {
          "base_uri": "https://localhost:8080/"
        },
        "outputId": "6e691a97-11b7-4c5b-be6b-c529e0859c33"
      },
      "execution_count": 15,
      "outputs": [
        {
          "output_type": "stream",
          "name": "stderr",
          "text": [
            "/usr/local/lib/python3.11/dist-packages/keras/src/layers/core/input_layer.py:27: UserWarning: Argument `input_shape` is deprecated. Use `shape` instead.\n",
            "  warnings.warn(\n",
            "/usr/local/lib/python3.11/dist-packages/keras/src/layers/convolutional/base_conv.py:107: UserWarning: Do not pass an `input_shape`/`input_dim` argument to a layer. When using Sequential models, prefer using an `Input(shape)` object as the first layer in the model instead.\n",
            "  super().__init__(activity_regularizer=activity_regularizer, **kwargs)\n"
          ]
        }
      ]
    },
    {
      "cell_type": "code",
      "source": [
        "model.compile(\n",
        "    optimizer=\"adam\",\n",
        "    loss=\"categorical_crossentropy\",\n",
        "    metrics=[\"accuracy\"]\n",
        ")"
      ],
      "metadata": {
        "id": "k1U5Itd4xZRx"
      },
      "execution_count": 16,
      "outputs": []
    },
    {
      "cell_type": "code",
      "source": [
        "model.fit(X_train, y_train, epochs=EPOCHS)"
      ],
      "metadata": {
        "colab": {
          "base_uri": "https://localhost:8080/"
        },
        "id": "z5-9-tUXxxLS",
        "outputId": "e2b63b17-ecea-43e2-8876-98b07a37d709"
      },
      "execution_count": 17,
      "outputs": [
        {
          "output_type": "stream",
          "name": "stdout",
          "text": [
            "Epoch 1/10\n",
            "\u001b[1m81/81\u001b[0m \u001b[32m━━━━━━━━━━━━━━━━━━━━\u001b[0m\u001b[37m\u001b[0m \u001b[1m129s\u001b[0m 2s/step - accuracy: 0.7267 - loss: 4.1809\n",
            "Epoch 2/10\n",
            "\u001b[1m81/81\u001b[0m \u001b[32m━━━━━━━━━━━━━━━━━━━━\u001b[0m\u001b[37m\u001b[0m \u001b[1m143s\u001b[0m 2s/step - accuracy: 0.9588 - loss: 0.1249\n",
            "Epoch 3/10\n",
            "\u001b[1m81/81\u001b[0m \u001b[32m━━━━━━━━━━━━━━━━━━━━\u001b[0m\u001b[37m\u001b[0m \u001b[1m121s\u001b[0m 1s/step - accuracy: 0.9059 - loss: 0.2211\n",
            "Epoch 4/10\n",
            "\u001b[1m81/81\u001b[0m \u001b[32m━━━━━━━━━━━━━━━━━━━━\u001b[0m\u001b[37m\u001b[0m \u001b[1m123s\u001b[0m 2s/step - accuracy: 0.9746 - loss: 0.0661\n",
            "Epoch 5/10\n",
            "\u001b[1m81/81\u001b[0m \u001b[32m━━━━━━━━━━━━━━━━━━━━\u001b[0m\u001b[37m\u001b[0m \u001b[1m144s\u001b[0m 2s/step - accuracy: 0.9329 - loss: 0.1968\n",
            "Epoch 6/10\n",
            "\u001b[1m81/81\u001b[0m \u001b[32m━━━━━━━━━━━━━━━━━━━━\u001b[0m\u001b[37m\u001b[0m \u001b[1m140s\u001b[0m 2s/step - accuracy: 0.9844 - loss: 0.0554\n",
            "Epoch 7/10\n",
            "\u001b[1m81/81\u001b[0m \u001b[32m━━━━━━━━━━━━━━━━━━━━\u001b[0m\u001b[37m\u001b[0m \u001b[1m132s\u001b[0m 2s/step - accuracy: 0.9767 - loss: 0.0668\n",
            "Epoch 8/10\n",
            "\u001b[1m81/81\u001b[0m \u001b[32m━━━━━━━━━━━━━━━━━━━━\u001b[0m\u001b[37m\u001b[0m \u001b[1m122s\u001b[0m 2s/step - accuracy: 0.9853 - loss: 0.0438\n",
            "Epoch 9/10\n",
            "\u001b[1m81/81\u001b[0m \u001b[32m━━━━━━━━━━━━━━━━━━━━\u001b[0m\u001b[37m\u001b[0m \u001b[1m141s\u001b[0m 2s/step - accuracy: 0.9838 - loss: 0.0436\n",
            "Epoch 10/10\n",
            "\u001b[1m81/81\u001b[0m \u001b[32m━━━━━━━━━━━━━━━━━━━━\u001b[0m\u001b[37m\u001b[0m \u001b[1m142s\u001b[0m 2s/step - accuracy: 0.9893 - loss: 0.0363\n"
          ]
        },
        {
          "output_type": "execute_result",
          "data": {
            "text/plain": [
              "<keras.src.callbacks.history.History at 0x7b12948deed0>"
            ]
          },
          "metadata": {},
          "execution_count": 17
        }
      ]
    },
    {
      "cell_type": "code",
      "source": [
        "model.evaluate(X_test, y_test)"
      ],
      "metadata": {
        "colab": {
          "base_uri": "https://localhost:8080/"
        },
        "id": "NlFBbGjrxz1r",
        "outputId": "862703ce-9099-48f1-d046-9d7972d4a058"
      },
      "execution_count": 18,
      "outputs": [
        {
          "output_type": "stream",
          "name": "stdout",
          "text": [
            "\u001b[1m21/21\u001b[0m \u001b[32m━━━━━━━━━━━━━━━━━━━━\u001b[0m\u001b[37m\u001b[0m \u001b[1m9s\u001b[0m 413ms/step - accuracy: 0.9941 - loss: 0.0152\n"
          ]
        },
        {
          "output_type": "execute_result",
          "data": {
            "text/plain": [
              "[0.017726685851812363, 0.9921996593475342]"
            ]
          },
          "metadata": {},
          "execution_count": 18
        }
      ]
    },
    {
      "cell_type": "code",
      "source": [
        "# f1 score, accuracy, precision,\n",
        "from sklearn.metrics import confusion_matrix, f1_score\n",
        "\n",
        "y_pred = model.predict(X_test)\n",
        "y_pred_classes = np.argmax(y_pred, axis=1)\n",
        "y_true_classes = np.argmax(y_test, axis=1)\n",
        "\n",
        "cm = confusion_matrix(y_true_classes, y_pred_classes)\n",
        "print(cm)\n",
        "\n",
        "f1 = f1_score(y_true_classes, y_pred_classes, average='weighted')\n",
        "print(f1)"
      ],
      "metadata": {
        "id": "V-r0a0WWz11z",
        "colab": {
          "base_uri": "https://localhost:8080/"
        },
        "outputId": "d68b66c3-33a1-49c0-e9a1-07cf2a4b08ef"
      },
      "execution_count": 23,
      "outputs": [
        {
          "output_type": "stream",
          "name": "stdout",
          "text": [
            "\u001b[1m21/21\u001b[0m \u001b[32m━━━━━━━━━━━━━━━━━━━━\u001b[0m\u001b[37m\u001b[0m \u001b[1m8s\u001b[0m 363ms/step\n",
            "[[439   5]\n",
            " [  0 197]]\n",
            "0.9922264774343389\n"
          ]
        }
      ]
    },
    {
      "cell_type": "code",
      "source": [],
      "metadata": {
        "id": "lzBBsm4zECl0"
      },
      "execution_count": null,
      "outputs": []
    }
  ]
}